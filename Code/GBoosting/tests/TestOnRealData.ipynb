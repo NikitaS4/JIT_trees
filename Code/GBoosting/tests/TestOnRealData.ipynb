{
 "cells": [
  {
   "cell_type": "markdown",
   "metadata": {},
   "source": [
    "# Imports"
   ]
  },
  {
   "cell_type": "code",
   "execution_count": 14,
   "metadata": {},
   "outputs": [],
   "source": [
    "import numpy as np\n",
    "from matplotlib import pyplot as plt\n",
    "%matplotlib inline\n",
    "from sklearn.model_selection import train_test_split\n",
    "from sklearn.datasets import load_boston \n",
    "from sklearn.metrics import mean_absolute_error as mae_score\n",
    "from sklearn.experimental import enable_hist_gradient_boosting\n",
    "from sklearn.ensemble import HistGradientBoostingRegressor as SkBoosting\n",
    "import os, sys\n",
    "import time"
   ]
  },
  {
   "cell_type": "markdown",
   "metadata": {},
   "source": [
    "## Import JIT trees module"
   ]
  },
  {
   "cell_type": "code",
   "execution_count": 3,
   "metadata": {},
   "outputs": [],
   "source": [
    "sys.path.append('..')  # as the module is created in the upper directory\n",
    "import JITtrees"
   ]
  },
  {
   "cell_type": "markdown",
   "metadata": {},
   "source": [
    "# Get dataset"
   ]
  },
  {
   "cell_type": "code",
   "execution_count": 7,
   "metadata": {},
   "outputs": [
    {
     "name": "stdout",
     "output_type": "stream",
     "text": [
      "Dataset size: 506\n",
      "Feature count: 13\n"
     ]
    }
   ],
   "source": [
    "x_all, y_all = load_boston(return_X_y=True)  # get data\n",
    "print(f\"Dataset size: {y_all.shape[0]}\")\n",
    "print(f\"Feature count: {x_all.shape[1]}\")"
   ]
  },
  {
   "cell_type": "markdown",
   "metadata": {},
   "source": [
    "## Split dataset into train and test"
   ]
  },
  {
   "cell_type": "code",
   "execution_count": 8,
   "metadata": {},
   "outputs": [
    {
     "name": "stdout",
     "output_type": "stream",
     "text": [
      "Train length: 404, test length: 102\n"
     ]
    }
   ],
   "source": [
    "x_train, x_test, y_train, y_test = train_test_split(x_all, y_all, test_size=0.2, random_state=12)\n",
    "print(f\"Train length: {y_train.shape[0]}, test length: {y_test.shape[0]}\")"
   ]
  },
  {
   "cell_type": "markdown",
   "metadata": {},
   "source": [
    "# Fit model"
   ]
  },
  {
   "cell_type": "code",
   "execution_count": 19,
   "metadata": {},
   "outputs": [
    {
     "name": "stdout",
     "output_type": "stream",
     "text": [
      "Fit time: 0.2519867420196533 seconds\n"
     ]
    }
   ],
   "source": [
    "options = {\n",
    "    'bins': 256,\n",
    "    'patience': 4,\n",
    "    'tree_count': 200,\n",
    "    'tree_depth': 4,\n",
    "    'feature_fold_size': 0.8,\n",
    "    'learning_rate': 0.2,\n",
    "    'es_delta': 1e-5,\n",
    "    'batch_part': 0.8,\n",
    "    'use_jit': False,\n",
    "    'jit_type': 0\n",
    "}\n",
    "\n",
    "model = JITtrees.Boosting(options['bins'], options['patience'])\n",
    "start_time = time.time() # get start time to count the time of execution\n",
    "history = model.fit(x_train, y_train, x_test, y_test, options['tree_count'],\n",
    "    options['tree_depth'], int(np.ceil(x_train.shape[1] * options['feature_fold_size'])), \n",
    "    options['learning_rate'], options['es_delta'],\n",
    "    options['batch_part'], options['use_jit'], options['jit_type'])\n",
    "exec_time = time.time() - start_time\n",
    "print(f\"Fit time: {exec_time} seconds\")"
   ]
  },
  {
   "cell_type": "markdown",
   "metadata": {},
   "source": [
    "# Evaluate\n",
    "## Get predictions"
   ]
  },
  {
   "cell_type": "code",
   "execution_count": 20,
   "metadata": {},
   "outputs": [
    {
     "name": "stdout",
     "output_type": "stream",
     "text": [
      "MAE score: 2.3510144863302136, Sklearn model MAE: 2.527354851153334\n",
      "Sklearn model fit time: 0.3945498466491699 seconds\n"
     ]
    }
   ],
   "source": [
    "preds = model.predict(x_test)\n",
    "mae = mae_score(y_test, preds)\n",
    "\n",
    "# compare to Scikit-learn model\n",
    "sk_model = SkBoosting(learning_rate=options['learning_rate'],\n",
    "                      max_iter=options['tree_count'],\n",
    "                      max_depth=options['tree_depth'])\n",
    "start_time = time.time()\n",
    "sk_model.fit(x_train, y_train)\n",
    "sk_fit_time = time.time() - start_time\n",
    "sk_preds = sk_model.predict(x_test)\n",
    "sk_mae = mae_score(y_test, sk_preds)\n",
    "\n",
    "print(f\"MAE score: {mae}, Sklearn model MAE: {sk_mae}\")\n",
    "print(f\"Sklearn model fit time: {sk_fit_time} seconds\")"
   ]
  },
  {
   "cell_type": "code",
   "execution_count": null,
   "metadata": {},
   "outputs": [],
   "source": []
  }
 ],
 "metadata": {
  "kernelspec": {
   "display_name": "Python 3",
   "language": "python",
   "name": "python3"
  },
  "language_info": {
   "codemirror_mode": {
    "name": "ipython",
    "version": 3
   },
   "file_extension": ".py",
   "mimetype": "text/x-python",
   "name": "python",
   "nbconvert_exporter": "python",
   "pygments_lexer": "ipython3",
   "version": "3.8.5"
  }
 },
 "nbformat": 4,
 "nbformat_minor": 4
}
