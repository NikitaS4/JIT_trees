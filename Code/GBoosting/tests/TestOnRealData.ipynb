{
 "cells": [
  {
   "cell_type": "markdown",
   "metadata": {},
   "source": [
    "# Imports"
   ]
  },
  {
   "cell_type": "code",
   "execution_count": 1,
   "metadata": {},
   "outputs": [],
   "source": [
    "import numpy as np\n",
    "import pandas as pd\n",
    "from matplotlib import pyplot as plt\n",
    "%matplotlib inline\n",
    "from sklearn.model_selection import train_test_split\n",
    "from sklearn.datasets import load_boston, load_diabetes, make_regression\n",
    "from sklearn.metrics import mean_absolute_error as mae_score\n",
    "from sklearn.experimental import enable_hist_gradient_boosting\n",
    "from sklearn.ensemble import HistGradientBoostingRegressor as SkBoosting\n",
    "from catboost import Pool, CatBoostRegressor\n",
    "import os, sys\n",
    "import time"
   ]
  },
  {
   "cell_type": "markdown",
   "metadata": {},
   "source": [
    "## Import JIT trees module"
   ]
  },
  {
   "cell_type": "code",
   "execution_count": 2,
   "metadata": {},
   "outputs": [],
   "source": [
    "sys.path.append('..')  # as the module is created in the upper directory\n",
    "import JITtrees"
   ]
  },
  {
   "cell_type": "markdown",
   "metadata": {},
   "source": [
    "## Create pandas data frame to hold the results"
   ]
  },
  {
   "cell_type": "code",
   "execution_count": 3,
   "metadata": {},
   "outputs": [],
   "source": [
    "res_df = None"
   ]
  },
  {
   "cell_type": "markdown",
   "metadata": {},
   "source": [
    "# Define pipeline\n",
    "1. Split dataset into train and test\n",
    "2. Fit model\n",
    "3. Evaluate"
   ]
  },
  {
   "cell_type": "code",
   "execution_count": 4,
   "metadata": {},
   "outputs": [],
   "source": [
    "default_options = {\n",
    "    'min_bins': 16,\n",
    "    'max_bins': 256,\n",
    "    'patience': 4,\n",
    "    'tree_count': 200,\n",
    "    'tree_depth': 4,\n",
    "    'feature_fold_size': 0.8,\n",
    "    'learning_rate': 0.2,\n",
    "    'regularization_param': 1,\n",
    "    'es_delta': 1e-5,\n",
    "    'batch_part': 0.8,\n",
    "    'use_jit': False,\n",
    "    'jit_type': 0,\n",
    "    'random_batches': True\n",
    "}\n",
    "\n",
    "\n",
    "def evaluation_pipeline(dataset_name, x_all, y_all, df, options=default_options):\n",
    "    # data frame to hold the results\n",
    "    cur_df = {\n",
    "        'Dataset': dataset_name,\n",
    "        'Data size': x_all.shape[0],\n",
    "        'Data dim': x_all.shape[1],\n",
    "        'MAE': None,\n",
    "        'MAE Sklearn': None,\n",
    "        'MAE CatBoost': None,\n",
    "        'Fit time': None,\n",
    "        'Fit time Sklearn': None,\n",
    "        'Fit time CatBoost': None\n",
    "    }\n",
    "    \n",
    "    # split dataset into train and test\n",
    "    x_train, x_test, y_train, y_test = train_test_split(x_all, y_all, test_size=0.2, random_state=12)\n",
    "    print(f\"Train length: {y_train.shape[0]}, test length: {y_test.shape[0]}\")\n",
    "    \n",
    "    # fit model\n",
    "    model = JITtrees.Boosting(options['min_bins'], options['max_bins'], options['patience'])\n",
    "    start_time = time.time() # get start time to count the time of execution\n",
    "    history = model.fit(x_train, y_train, x_test, y_test, options['tree_count'],\n",
    "        options['tree_depth'], int(np.ceil(x_train.shape[1] * options['feature_fold_size'])), \n",
    "        options['learning_rate'], options['regularization_param'], options['es_delta'],\n",
    "        options['batch_part'], options['use_jit'], options['jit_type'], options['random_batches'])\n",
    "    exec_time = time.time() - start_time\n",
    "    print(f\"Fit time: {exec_time} seconds\")\n",
    "    print(f\"Real tree number: {history.trees_number()}\")\n",
    "    \n",
    "    # evaluate\n",
    "    preds = model.predict(x_test)\n",
    "    mae = mae_score(y_test, preds)\n",
    "    cur_df['MAE'] = mae\n",
    "    cur_df['Fit time'] = exec_time\n",
    "\n",
    "    # compare to Scikit-learn model\n",
    "    sk_model = SkBoosting(learning_rate=options['learning_rate'],\n",
    "                          max_iter=options['tree_count'],\n",
    "                          max_depth=options['tree_depth'])\n",
    "    start_time = time.time()\n",
    "    sk_model.fit(x_train, y_train)\n",
    "    sk_fit_time = time.time() - start_time\n",
    "    sk_preds = sk_model.predict(x_test)\n",
    "    sk_mae = mae_score(y_test, sk_preds)\n",
    "    cur_df['MAE Sklearn'] = sk_mae\n",
    "    cur_df['Fit time Sklearn'] = sk_fit_time\n",
    "\n",
    "    # compare to CatBoost model\n",
    "    cb_model = CatBoostRegressor(iterations=options['tree_count'],\n",
    "                                 learning_rate=options['learning_rate'],\n",
    "                                 verbose=False,\n",
    "                                 depth=options['tree_depth'])\n",
    "    start_time = time.time()\n",
    "    cb_model.fit(x_train, y_train, verbose=False)\n",
    "    cb_fit_time = time.time() - start_time\n",
    "    cb_preds = cb_model.predict(x_test)\n",
    "    cb_mae = mae_score(y_test, cb_preds)\n",
    "    cur_df['MAE CatBoost'] = cb_mae\n",
    "    cur_df['Fit time CatBoost'] = cb_fit_time\n",
    "    \n",
    "    print(f\"MAE score: {mae}, Sklearn model MAE: {sk_mae}\")\n",
    "    print(f\"CatBoost model MAE: {cb_mae}\")\n",
    "    print(f\"Sklearn model fit time: {sk_fit_time} seconds\")\n",
    "    print(f\"CatBoost model fit time: {cb_fit_time} seconds\")\n",
    "    \n",
    "    cur_df = pd.DataFrame(data=cur_df, index=[0])\n",
    "    \n",
    "    return df.append(cur_df) if df is not None else cur_df"
   ]
  },
  {
   "cell_type": "markdown",
   "metadata": {},
   "source": [
    "# Boston dataset\n",
    "## Get dataset"
   ]
  },
  {
   "cell_type": "code",
   "execution_count": 5,
   "metadata": {},
   "outputs": [
    {
     "name": "stdout",
     "output_type": "stream",
     "text": [
      "Dataset size: 506\n",
      "Feature count: 13\n"
     ]
    }
   ],
   "source": [
    "x_all, y_all = load_boston(return_X_y=True)  # get data\n",
    "print(f\"Dataset size: {y_all.shape[0]}\")\n",
    "print(f\"Feature count: {x_all.shape[1]}\")"
   ]
  },
  {
   "cell_type": "markdown",
   "metadata": {},
   "source": [
    "## Evaluate"
   ]
  },
  {
   "cell_type": "code",
   "execution_count": 6,
   "metadata": {},
   "outputs": [
    {
     "name": "stdout",
     "output_type": "stream",
     "text": [
      "Train length: 404, test length: 102\n",
      "Fit time: 0.3735499382019043 seconds\n",
      "Real tree number: 142\n",
      "MAE score: 2.191627340608934, Sklearn model MAE: 2.527354851153334\n",
      "CatBoost model MAE: 2.2150299019712345\n",
      "Sklearn model fit time: 0.374725341796875 seconds\n",
      "CatBoost model fit time: 1.1739697456359863 seconds\n"
     ]
    }
   ],
   "source": [
    "res_df = evaluation_pipeline('Boston', x_all, y_all, res_df)"
   ]
  },
  {
   "cell_type": "markdown",
   "metadata": {},
   "source": [
    "# Diabetes dataset\n",
    "## Get dataset"
   ]
  },
  {
   "cell_type": "code",
   "execution_count": 7,
   "metadata": {},
   "outputs": [
    {
     "name": "stdout",
     "output_type": "stream",
     "text": [
      "Dataset size: 442\n",
      "Feature count: 10\n"
     ]
    }
   ],
   "source": [
    "x_all, y_all = load_diabetes(return_X_y=True)  # get data\n",
    "print(f\"Dataset size: {y_all.shape[0]}\")\n",
    "print(f\"Feature count: {x_all.shape[1]}\")"
   ]
  },
  {
   "cell_type": "markdown",
   "metadata": {},
   "source": [
    "## Evaluate"
   ]
  },
  {
   "cell_type": "code",
   "execution_count": 8,
   "metadata": {},
   "outputs": [
    {
     "name": "stdout",
     "output_type": "stream",
     "text": [
      "Train length: 353, test length: 89\n",
      "Fit time: 0.06567764282226562 seconds\n",
      "Real tree number: 43\n",
      "MAE score: 47.937337586499936, Sklearn model MAE: 53.389011650016585\n",
      "CatBoost model MAE: 49.45795579850272\n",
      "Sklearn model fit time: 0.3471486568450928 seconds\n",
      "CatBoost model fit time: 0.3540976047515869 seconds\n"
     ]
    }
   ],
   "source": [
    "res_df = evaluation_pipeline('Diabetes', x_all, y_all, res_df)"
   ]
  },
  {
   "cell_type": "markdown",
   "metadata": {},
   "source": [
    "# Scikit-learn makes regression itself\n",
    "## Generate dataset"
   ]
  },
  {
   "cell_type": "code",
   "execution_count": 9,
   "metadata": {},
   "outputs": [
    {
     "name": "stdout",
     "output_type": "stream",
     "text": [
      "Dataset size: 1000\n",
      "Feature count: 200\n"
     ]
    }
   ],
   "source": [
    "x_all, y_all = make_regression(n_samples=1000, n_features=200, n_informative=150, n_targets=1, bias=10.0, \n",
    "                                  noise=3.0, shuffle=True, random_state=12)\n",
    "print(f\"Dataset size: {y_all.shape[0]}\")\n",
    "print(f\"Feature count: {x_all.shape[1]}\")"
   ]
  },
  {
   "cell_type": "markdown",
   "metadata": {},
   "source": [
    "## Evaluate"
   ]
  },
  {
   "cell_type": "code",
   "execution_count": 10,
   "metadata": {},
   "outputs": [
    {
     "name": "stdout",
     "output_type": "stream",
     "text": [
      "Train length: 800, test length: 200\n",
      "Fit time: 23.627938747406006 seconds\n",
      "Real tree number: 200\n",
      "MAE score: 465.53869253219204, Sklearn model MAE: 461.3837396763176\n",
      "CatBoost model MAE: 447.41960131952766\n",
      "Sklearn model fit time: 2.1584689617156982 seconds\n",
      "CatBoost model fit time: 2.165522336959839 seconds\n"
     ]
    }
   ],
   "source": [
    "res_df = evaluation_pipeline('Make regression', x_all, y_all, res_df)"
   ]
  },
  {
   "cell_type": "markdown",
   "metadata": {},
   "source": [
    "# Superconductivity dataset\n",
    "### Link:\n",
    "https://archive.ics.uci.edu/ml/datasets/Superconductivty+Data\n",
    "## Get dataset"
   ]
  },
  {
   "cell_type": "code",
   "execution_count": 11,
   "metadata": {},
   "outputs": [
    {
     "name": "stdout",
     "output_type": "stream",
     "text": [
      "Dataset size: 21263\n",
      "Feature count: 81\n"
     ]
    }
   ],
   "source": [
    "data_dir = os.path.join('datasets', 'superconduct')\n",
    "data_csv = 'train.csv'\n",
    "\n",
    "# read train\n",
    "all_data = pd.read_csv(os.path.join(data_dir, data_csv))\n",
    "\n",
    "# split into target and features\n",
    "label_name = 'critical_temp'\n",
    "labels_df = all_data[label_name]  # target df\n",
    "features_df = all_data.drop(label_name, axis=1)  # featrues df\n",
    "\n",
    "# convert to numpy arrays\n",
    "y_all = labels_df.to_numpy()\n",
    "x_all = features_df.to_numpy()\n",
    "\n",
    "print(f\"Dataset size: {y_all.shape[0]}\")\n",
    "print(f\"Feature count: {x_all.shape[1]}\")"
   ]
  },
  {
   "cell_type": "markdown",
   "metadata": {},
   "source": [
    "## Evaluate"
   ]
  },
  {
   "cell_type": "code",
   "execution_count": 12,
   "metadata": {},
   "outputs": [
    {
     "name": "stdout",
     "output_type": "stream",
     "text": [
      "Train length: 17010, test length: 4253\n",
      "Fit time: 34.533090353012085 seconds\n",
      "Real tree number: 3\n",
      "MAE score: 3.343772801663413e+230, Sklearn model MAE: 5.812342773887075\n",
      "CatBoost model MAE: 5.67554362319252\n",
      "Sklearn model fit time: 4.07066535949707 seconds\n",
      "CatBoost model fit time: 12.015799760818481 seconds\n"
     ]
    }
   ],
   "source": [
    "supercond_options = {\n",
    "    'min_bins': 256,\n",
    "    'max_bins': 256,\n",
    "    'patience': 4,\n",
    "    'tree_count': 500,\n",
    "    'tree_depth': 7,\n",
    "    'feature_fold_size': 1.0,\n",
    "    'learning_rate': 0.15,\n",
    "    'regularization_param': 2,\n",
    "    'es_delta': 1e-6,\n",
    "    'batch_part': 0.6,\n",
    "    'use_jit': False,\n",
    "    'jit_type': 0,\n",
    "    'random_batches': True\n",
    "}\n",
    "res_df = evaluation_pipeline('Superconductivity', x_all, y_all, res_df, supercond_options)"
   ]
  },
  {
   "cell_type": "markdown",
   "metadata": {},
   "source": [
    "# Summary\n",
    "|Dataset|MAE|Sklearn MAE|fit time|Sklearn fit time|\n",
    "|-------|---|-----------|--------|----------------|\n",
    "| Boston | 2.35 | 2.53 | 0.25 | 0.39 |\n",
    "| Diabetes | 48.11 | 53.39 | 0.18 | 0.43 |\n",
    "| Generated regression (1000, 200) | 490.7 | 512.3 | 110.7 | 4.62 |\n",
    "| Generated regression (1000, 100) | 279.1 | 282.8 | 21.2 | 1.27 |"
   ]
  },
  {
   "cell_type": "code",
   "execution_count": 13,
   "metadata": {},
   "outputs": [
    {
     "data": {
      "text/html": [
       "<div>\n",
       "<style scoped>\n",
       "    .dataframe tbody tr th:only-of-type {\n",
       "        vertical-align: middle;\n",
       "    }\n",
       "\n",
       "    .dataframe tbody tr th {\n",
       "        vertical-align: top;\n",
       "    }\n",
       "\n",
       "    .dataframe thead th {\n",
       "        text-align: right;\n",
       "    }\n",
       "</style>\n",
       "<table border=\"1\" class=\"dataframe\">\n",
       "  <thead>\n",
       "    <tr style=\"text-align: right;\">\n",
       "      <th></th>\n",
       "      <th>Dataset</th>\n",
       "      <th>Data size</th>\n",
       "      <th>Data dim</th>\n",
       "      <th>MAE</th>\n",
       "      <th>MAE Sklearn</th>\n",
       "      <th>MAE CatBoost</th>\n",
       "      <th>Fit time</th>\n",
       "      <th>Fit time Sklearn</th>\n",
       "      <th>Fit time CatBoost</th>\n",
       "    </tr>\n",
       "  </thead>\n",
       "  <tbody>\n",
       "    <tr>\n",
       "      <th>0</th>\n",
       "      <td>Boston</td>\n",
       "      <td>506</td>\n",
       "      <td>13</td>\n",
       "      <td>2.191627e+00</td>\n",
       "      <td>2.527355</td>\n",
       "      <td>2.215030</td>\n",
       "      <td>0.373550</td>\n",
       "      <td>0.374725</td>\n",
       "      <td>1.173970</td>\n",
       "    </tr>\n",
       "    <tr>\n",
       "      <th>0</th>\n",
       "      <td>Diabetes</td>\n",
       "      <td>442</td>\n",
       "      <td>10</td>\n",
       "      <td>4.793734e+01</td>\n",
       "      <td>53.389012</td>\n",
       "      <td>49.457956</td>\n",
       "      <td>0.065678</td>\n",
       "      <td>0.347149</td>\n",
       "      <td>0.354098</td>\n",
       "    </tr>\n",
       "    <tr>\n",
       "      <th>0</th>\n",
       "      <td>Make regression</td>\n",
       "      <td>1000</td>\n",
       "      <td>200</td>\n",
       "      <td>4.655387e+02</td>\n",
       "      <td>461.383740</td>\n",
       "      <td>447.419601</td>\n",
       "      <td>23.627939</td>\n",
       "      <td>2.158469</td>\n",
       "      <td>2.165522</td>\n",
       "    </tr>\n",
       "    <tr>\n",
       "      <th>0</th>\n",
       "      <td>Superconductivity</td>\n",
       "      <td>21263</td>\n",
       "      <td>81</td>\n",
       "      <td>3.343773e+230</td>\n",
       "      <td>5.812343</td>\n",
       "      <td>5.675544</td>\n",
       "      <td>34.533090</td>\n",
       "      <td>4.070665</td>\n",
       "      <td>12.015800</td>\n",
       "    </tr>\n",
       "  </tbody>\n",
       "</table>\n",
       "</div>"
      ],
      "text/plain": [
       "             Dataset  Data size  Data dim            MAE  MAE Sklearn  \\\n",
       "0             Boston        506        13   2.191627e+00     2.527355   \n",
       "0           Diabetes        442        10   4.793734e+01    53.389012   \n",
       "0    Make regression       1000       200   4.655387e+02   461.383740   \n",
       "0  Superconductivity      21263        81  3.343773e+230     5.812343   \n",
       "\n",
       "   MAE CatBoost   Fit time  Fit time Sklearn  Fit time CatBoost  \n",
       "0      2.215030   0.373550          0.374725           1.173970  \n",
       "0     49.457956   0.065678          0.347149           0.354098  \n",
       "0    447.419601  23.627939          2.158469           2.165522  \n",
       "0      5.675544  34.533090          4.070665          12.015800  "
      ]
     },
     "execution_count": 13,
     "metadata": {},
     "output_type": "execute_result"
    }
   ],
   "source": [
    "res_df"
   ]
  }
 ],
 "metadata": {
  "kernelspec": {
   "display_name": "Python 3",
   "language": "python",
   "name": "python3"
  },
  "language_info": {
   "codemirror_mode": {
    "name": "ipython",
    "version": 3
   },
   "file_extension": ".py",
   "mimetype": "text/x-python",
   "name": "python",
   "nbconvert_exporter": "python",
   "pygments_lexer": "ipython3",
   "version": "3.8.5"
  }
 },
 "nbformat": 4,
 "nbformat_minor": 4
}
