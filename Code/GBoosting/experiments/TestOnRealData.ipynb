{
 "cells": [
  {
   "cell_type": "markdown",
   "metadata": {},
   "source": [
    "# Imports"
   ]
  },
  {
   "cell_type": "code",
   "execution_count": 1,
   "metadata": {},
   "outputs": [],
   "source": [
    "import numpy as np\n",
    "import pandas as pd\n",
    "from matplotlib import pyplot as plt\n",
    "%matplotlib inline\n",
    "from sklearn.model_selection import train_test_split\n",
    "from sklearn.datasets import load_boston, load_diabetes, make_regression\n",
    "from sklearn.metrics import mean_absolute_error as mae_score\n",
    "from sklearn.experimental import enable_hist_gradient_boosting\n",
    "from sklearn.ensemble import HistGradientBoostingRegressor as SkBoosting\n",
    "from catboost import Pool, CatBoostRegressor\n",
    "import os, sys\n",
    "import time"
   ]
  },
  {
   "cell_type": "markdown",
   "metadata": {},
   "source": [
    "## Import regbm module"
   ]
  },
  {
   "cell_type": "code",
   "execution_count": 2,
   "metadata": {},
   "outputs": [],
   "source": [
    "sys.path.append('..')  # as the module is created in the upper directory\n",
    "import regbm"
   ]
  },
  {
   "cell_type": "markdown",
   "metadata": {},
   "source": [
    "## Create pandas data frame to hold the results"
   ]
  },
  {
   "cell_type": "code",
   "execution_count": 3,
   "metadata": {},
   "outputs": [],
   "source": [
    "res_df = None"
   ]
  },
  {
   "cell_type": "markdown",
   "metadata": {},
   "source": [
    "# Define pipeline\n",
    "1. Split dataset into train and test\n",
    "2. Fit model\n",
    "3. Evaluate"
   ]
  },
  {
   "cell_type": "code",
   "execution_count": 5,
   "metadata": {},
   "outputs": [],
   "source": [
    "def_ctor_opts = {\n",
    "    'min_bins': 16,\n",
    "    'max_bins': 256,\n",
    "    'patience': 4,\n",
    "    'no_early_stopping': False,\n",
    "    'thread_cnt': 1\n",
    "}\n",
    "\n",
    "def_fit_opts = {\n",
    "    'tree_count': 500,\n",
    "    'tree_depth': 3,\n",
    "    'feature_fold_size': 1.0,\n",
    "    'learning_rate': 0.15,\n",
    "    'regularization_param': 0.15,\n",
    "    'early_stopping_delta': 1e-5,\n",
    "    'batch_part': 1.0,\n",
    "    'random_state': 12,\n",
    "    'random_batches': False,\n",
    "    'random_hist_thresholds': True,\n",
    "    'remove_regularization_later': True\n",
    "}\n",
    "\n",
    "\n",
    "def evaluation_pipeline(dataset_name, x_all, y_all, df, ctor_opts=def_ctor_opts, fit_opts=def_fit_opts):\n",
    "    # data frame to hold the results\n",
    "    cur_df = {\n",
    "        'Dataset': dataset_name,\n",
    "        'Data size': x_all.shape[0],\n",
    "        'Data dim': x_all.shape[1],\n",
    "        'MAE': None,\n",
    "        'MAE Sklearn': None,\n",
    "        'MAE CatBoost': None,\n",
    "        'Fit time': None,\n",
    "        'Fit time Sklearn': None,\n",
    "        'Fit time CatBoost': None\n",
    "    }\n",
    "    \n",
    "    # split dataset into train and test\n",
    "    x_train, x_test, y_train, y_test = train_test_split(x_all, y_all, test_size=0.2, random_state=12)\n",
    "    print(f\"Train length: {y_train.shape[0]}, test length: {y_test.shape[0]}\")\n",
    "    \n",
    "    # fit model\n",
    "    model = regbm.Boosting(**ctor_opts)\n",
    "    start_time = time.time() # get start time to count the time of execution\n",
    "    history = model.fit(x_train=x_train, y_train=y_train, x_valid=x_test, y_valid=y_test, **fit_opts)\n",
    "    exec_time = time.time() - start_time\n",
    "    print(f\"Fit time: {exec_time} seconds\")\n",
    "    print(f\"Real tree number: {history.trees_number()}\")\n",
    "    \n",
    "    # evaluate\n",
    "    preds = model.predict(x_test)\n",
    "    mae = mae_score(y_test, preds)\n",
    "    cur_df['MAE'] = mae\n",
    "    cur_df['Fit time'] = exec_time\n",
    "\n",
    "    # compare to Scikit-learn model\n",
    "    sk_model = SkBoosting(learning_rate=fit_opts['learning_rate'],\n",
    "                          max_iter=fit_opts['tree_count'],\n",
    "                          max_depth=fit_opts['tree_depth'])\n",
    "    start_time = time.time()\n",
    "    sk_model.fit(x_train, y_train)\n",
    "    sk_fit_time = time.time() - start_time\n",
    "    sk_preds = sk_model.predict(x_test)\n",
    "    sk_mae = mae_score(y_test, sk_preds)\n",
    "    cur_df['MAE Sklearn'] = sk_mae\n",
    "    cur_df['Fit time Sklearn'] = sk_fit_time\n",
    "\n",
    "    # compare to CatBoost model\n",
    "    cb_model = CatBoostRegressor(iterations=fit_opts['tree_count'],\n",
    "                                 learning_rate=fit_opts['learning_rate'],\n",
    "                                 verbose=False,\n",
    "                                 depth=fit_opts['tree_depth'])\n",
    "    start_time = time.time()\n",
    "    cb_model.fit(x_train, y_train, verbose=False)\n",
    "    cb_fit_time = time.time() - start_time\n",
    "    cb_preds = cb_model.predict(x_test)\n",
    "    cb_mae = mae_score(y_test, cb_preds)\n",
    "    cur_df['MAE CatBoost'] = cb_mae\n",
    "    cur_df['Fit time CatBoost'] = cb_fit_time\n",
    "    \n",
    "    print(f\"MAE score: {mae}, Sklearn model MAE: {sk_mae}\")\n",
    "    print(f\"CatBoost model MAE: {cb_mae}\")\n",
    "    print(f\"Sklearn model fit time: {sk_fit_time} seconds\")\n",
    "    print(f\"CatBoost model fit time: {cb_fit_time} seconds\")\n",
    "    \n",
    "    cur_df = pd.DataFrame(data=cur_df, index=[0])\n",
    "    \n",
    "    return df.append(cur_df) if df is not None else cur_df"
   ]
  },
  {
   "cell_type": "markdown",
   "metadata": {},
   "source": [
    "# Boston dataset\n",
    "## Get dataset"
   ]
  },
  {
   "cell_type": "code",
   "execution_count": 6,
   "metadata": {},
   "outputs": [
    {
     "name": "stdout",
     "output_type": "stream",
     "text": [
      "Dataset size: 506\n",
      "Feature count: 13\n"
     ]
    }
   ],
   "source": [
    "x_all, y_all = load_boston(return_X_y=True)  # get data\n",
    "print(f\"Dataset size: {y_all.shape[0]}\")\n",
    "print(f\"Feature count: {x_all.shape[1]}\")"
   ]
  },
  {
   "cell_type": "markdown",
   "metadata": {},
   "source": [
    "## Evaluate"
   ]
  },
  {
   "cell_type": "code",
   "execution_count": 7,
   "metadata": {},
   "outputs": [
    {
     "name": "stdout",
     "output_type": "stream",
     "text": [
      "Train length: 404, test length: 102\n",
      "Fit time: 0.06360411643981934 seconds\n",
      "Real tree number: 32\n",
      "MAE score: 2.3952834434792343, Sklearn model MAE: 2.5414756751278706\n",
      "CatBoost model MAE: 2.23362872607141\n",
      "Sklearn model fit time: 0.9142591953277588 seconds\n",
      "CatBoost model fit time: 0.7542943954467773 seconds\n"
     ]
    }
   ],
   "source": [
    "res_df = evaluation_pipeline('Boston', x_all, y_all, res_df)"
   ]
  },
  {
   "cell_type": "markdown",
   "metadata": {},
   "source": [
    "# Diabetes dataset\n",
    "## Get dataset"
   ]
  },
  {
   "cell_type": "code",
   "execution_count": 8,
   "metadata": {},
   "outputs": [
    {
     "name": "stdout",
     "output_type": "stream",
     "text": [
      "Dataset size: 442\n",
      "Feature count: 10\n"
     ]
    }
   ],
   "source": [
    "x_all, y_all = load_diabetes(return_X_y=True)  # get data\n",
    "print(f\"Dataset size: {y_all.shape[0]}\")\n",
    "print(f\"Feature count: {x_all.shape[1]}\")"
   ]
  },
  {
   "cell_type": "markdown",
   "metadata": {},
   "source": [
    "## Evaluate"
   ]
  },
  {
   "cell_type": "code",
   "execution_count": 9,
   "metadata": {},
   "outputs": [
    {
     "name": "stdout",
     "output_type": "stream",
     "text": [
      "Train length: 353, test length: 89\n",
      "Fit time: 0.13262701034545898 seconds\n",
      "Real tree number: 69\n",
      "MAE score: 47.64886493509642, Sklearn model MAE: 52.49889344154753\n",
      "CatBoost model MAE: 51.33442751608146\n",
      "Sklearn model fit time: 0.7265231609344482 seconds\n",
      "CatBoost model fit time: 0.45449304580688477 seconds\n"
     ]
    }
   ],
   "source": [
    "res_df = evaluation_pipeline('Diabetes', x_all, y_all, res_df)"
   ]
  },
  {
   "cell_type": "markdown",
   "metadata": {},
   "source": [
    "# Scikit-learn makes regression itself\n",
    "## Generate dataset"
   ]
  },
  {
   "cell_type": "code",
   "execution_count": 9,
   "metadata": {},
   "outputs": [
    {
     "name": "stdout",
     "output_type": "stream",
     "text": [
      "Dataset size: 1000\n",
      "Feature count: 200\n"
     ]
    }
   ],
   "source": [
    "x_all, y_all = make_regression(n_samples=1000, n_features=200, n_informative=150, n_targets=1, bias=10.0, \n",
    "                                  noise=3.0, shuffle=True, random_state=12)\n",
    "print(f\"Dataset size: {y_all.shape[0]}\")\n",
    "print(f\"Feature count: {x_all.shape[1]}\")"
   ]
  },
  {
   "cell_type": "markdown",
   "metadata": {},
   "source": [
    "## Evaluate"
   ]
  },
  {
   "cell_type": "code",
   "execution_count": 10,
   "metadata": {},
   "outputs": [
    {
     "name": "stdout",
     "output_type": "stream",
     "text": [
      "Train length: 800, test length: 200\n",
      "Fit time: 23.627938747406006 seconds\n",
      "Real tree number: 200\n",
      "MAE score: 465.53869253219204, Sklearn model MAE: 461.3837396763176\n",
      "CatBoost model MAE: 447.41960131952766\n",
      "Sklearn model fit time: 2.1584689617156982 seconds\n",
      "CatBoost model fit time: 2.165522336959839 seconds\n"
     ]
    }
   ],
   "source": [
    "res_df = evaluation_pipeline('Make regression', x_all, y_all, res_df)"
   ]
  },
  {
   "cell_type": "markdown",
   "metadata": {},
   "source": [
    "# Superconductivity dataset\n",
    "### Link:\n",
    "https://archive.ics.uci.edu/ml/datasets/Superconductivty+Data\n",
    "## Get dataset"
   ]
  },
  {
   "cell_type": "code",
   "execution_count": 11,
   "metadata": {},
   "outputs": [
    {
     "name": "stdout",
     "output_type": "stream",
     "text": [
      "Dataset size: 21263\n",
      "Feature count: 81\n"
     ]
    }
   ],
   "source": [
    "data_dir = os.path.join('datasets', 'superconduct')\n",
    "data_csv = 'train.csv'\n",
    "\n",
    "# read train\n",
    "all_data = pd.read_csv(os.path.join(data_dir, data_csv))\n",
    "\n",
    "# split into target and features\n",
    "label_name = 'critical_temp'\n",
    "labels_df = all_data[label_name]  # target df\n",
    "features_df = all_data.drop(label_name, axis=1)  # featrues df\n",
    "\n",
    "# convert to numpy arrays\n",
    "y_all = labels_df.to_numpy()\n",
    "x_all = features_df.to_numpy()\n",
    "\n",
    "print(f\"Dataset size: {y_all.shape[0]}\")\n",
    "print(f\"Feature count: {x_all.shape[1]}\")"
   ]
  },
  {
   "cell_type": "markdown",
   "metadata": {},
   "source": [
    "## Evaluate"
   ]
  },
  {
   "cell_type": "code",
   "execution_count": 12,
   "metadata": {},
   "outputs": [
    {
     "name": "stdout",
     "output_type": "stream",
     "text": [
      "Train length: 17010, test length: 4253\n",
      "Fit time: 34.533090353012085 seconds\n",
      "Real tree number: 3\n",
      "MAE score: 3.343772801663413e+230, Sklearn model MAE: 5.812342773887075\n",
      "CatBoost model MAE: 5.67554362319252\n",
      "Sklearn model fit time: 4.07066535949707 seconds\n",
      "CatBoost model fit time: 12.015799760818481 seconds\n"
     ]
    }
   ],
   "source": [
    "supercond_ctor = {\n",
    "    'min_bins': 128,\n",
    "    'max_bins': 256,\n",
    "    'patience': 5,\n",
    "    'no_early_stopping': False,\n",
    "    'thread_cnt': 1\n",
    "}\n",
    "\n",
    "supercond_fit = {\n",
    "    'tree_count': 2000,\n",
    "    'tree_depth': 4,\n",
    "    'feature_fold_size': 1.0,\n",
    "    'learning_rate': 0.15,\n",
    "    'regularization_param': 0.12,\n",
    "    'early_stopping_delta': 1e-5,\n",
    "    'batch_part': 0.8,\n",
    "    'random_state': 12,\n",
    "    'random_batches': True,\n",
    "    'random_hist_thresholds': True,\n",
    "    'remove_regularization_later': True\n",
    "}\n",
    "\n",
    "res_df = evaluation_pipeline('Superconductivity', x_all, y_all, res_df, supercond_options)"
   ]
  },
  {
   "cell_type": "markdown",
   "metadata": {},
   "source": [
    "# Summary"
   ]
  },
  {
   "cell_type": "code",
   "execution_count": 10,
   "metadata": {},
   "outputs": [
    {
     "data": {
      "text/html": [
       "<div>\n",
       "<style scoped>\n",
       "    .dataframe tbody tr th:only-of-type {\n",
       "        vertical-align: middle;\n",
       "    }\n",
       "\n",
       "    .dataframe tbody tr th {\n",
       "        vertical-align: top;\n",
       "    }\n",
       "\n",
       "    .dataframe thead th {\n",
       "        text-align: right;\n",
       "    }\n",
       "</style>\n",
       "<table border=\"1\" class=\"dataframe\">\n",
       "  <thead>\n",
       "    <tr style=\"text-align: right;\">\n",
       "      <th></th>\n",
       "      <th>Dataset</th>\n",
       "      <th>Data size</th>\n",
       "      <th>Data dim</th>\n",
       "      <th>MAE</th>\n",
       "      <th>MAE Sklearn</th>\n",
       "      <th>MAE CatBoost</th>\n",
       "      <th>Fit time</th>\n",
       "      <th>Fit time Sklearn</th>\n",
       "      <th>Fit time CatBoost</th>\n",
       "    </tr>\n",
       "  </thead>\n",
       "  <tbody>\n",
       "    <tr>\n",
       "      <th>0</th>\n",
       "      <td>Boston</td>\n",
       "      <td>506</td>\n",
       "      <td>13</td>\n",
       "      <td>2.395283</td>\n",
       "      <td>2.541476</td>\n",
       "      <td>2.233629</td>\n",
       "      <td>0.063604</td>\n",
       "      <td>0.914259</td>\n",
       "      <td>0.754294</td>\n",
       "    </tr>\n",
       "    <tr>\n",
       "      <th>0</th>\n",
       "      <td>Diabetes</td>\n",
       "      <td>442</td>\n",
       "      <td>10</td>\n",
       "      <td>47.648865</td>\n",
       "      <td>52.498893</td>\n",
       "      <td>51.334428</td>\n",
       "      <td>0.132627</td>\n",
       "      <td>0.726523</td>\n",
       "      <td>0.454493</td>\n",
       "    </tr>\n",
       "  </tbody>\n",
       "</table>\n",
       "</div>"
      ],
      "text/plain": [
       "    Dataset  Data size  Data dim        MAE  MAE Sklearn  MAE CatBoost  \\\n",
       "0    Boston        506        13   2.395283     2.541476      2.233629   \n",
       "0  Diabetes        442        10  47.648865    52.498893     51.334428   \n",
       "\n",
       "   Fit time  Fit time Sklearn  Fit time CatBoost  \n",
       "0  0.063604          0.914259           0.754294  \n",
       "0  0.132627          0.726523           0.454493  "
      ]
     },
     "execution_count": 10,
     "metadata": {},
     "output_type": "execute_result"
    }
   ],
   "source": [
    "res_df"
   ]
  }
 ],
 "metadata": {
  "kernelspec": {
   "display_name": "Python 3",
   "language": "python",
   "name": "python3"
  },
  "language_info": {
   "codemirror_mode": {
    "name": "ipython",
    "version": 3
   },
   "file_extension": ".py",
   "mimetype": "text/x-python",
   "name": "python",
   "nbconvert_exporter": "python",
   "pygments_lexer": "ipython3",
   "version": "3.8.5"
  }
 },
 "nbformat": 4,
 "nbformat_minor": 4
}
